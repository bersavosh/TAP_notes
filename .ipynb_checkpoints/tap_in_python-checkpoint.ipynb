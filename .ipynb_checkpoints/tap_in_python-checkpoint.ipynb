{
 "cells": [
  {
   "cell_type": "markdown",
   "metadata": {
    "collapsed": true
   },
   "source": [
    "## ADQL and Tap Queries in Python\n",
    "\n",
    "There are numerous python packages supporting TAP and ADQL parsing. Here, I show how to use them in Astropy's `astroquery` and `PyVO`."
   ]
  },
  {
   "cell_type": "code",
   "execution_count": 1,
   "metadata": {
    "collapsed": false
   },
   "outputs": [],
   "source": [
    "from astropy.table import Table\n",
    "import matplotlib.pyplot as plt\n",
    "%matplotlib notebook"
   ]
  },
  {
   "cell_type": "markdown",
   "metadata": {},
   "source": [
    "For getting what you want from TAP you need at least three items:\n",
    "\n",
    "- The specific TAP service address containing the table(s) you seek (typically something like http://gea.esac.esa.int/tap-server/tap)\n",
    "- Table identification on that server (there are standard naming schemes, you can also print a list of available tables on a TAP server)\n",
    "- An `ADQL` query"
   ]
  },
  {
   "cell_type": "markdown",
   "metadata": {},
   "source": [
    "## 1. Astroquery"
   ]
  },
  {
   "cell_type": "code",
   "execution_count": 2,
   "metadata": {
    "collapsed": false
   },
   "outputs": [
    {
     "name": "stdout",
     "output_type": "stream",
     "text": [
      "Created TAP+ (v1.0.1) - Connection:\n",
      "\tHost: gea.esac.esa.int\n",
      "\tUse HTTPS: False\n",
      "\tPort: 80\n",
      "\tSSL Port: 443\n"
     ]
    }
   ],
   "source": [
    "from astroquery.utils.tap.core import TapPlus\n",
    "tap_server = TapPlus(url=\"http://gea.esac.esa.int/tap-server/tap\")"
   ]
  },
  {
   "cell_type": "markdown",
   "metadata": {},
   "source": [
    "### Browsing tables on the TAP server\n",
    "You can print a list of available tables on the server and see their metadata.\n",
    "\n",
    "**Warning**: Some TAP servers contain tens of thousands of tables (e.g., Vizier), thus this can take a bit on those servers. The one we are accessing here mostly contains just Gaia results."
   ]
  },
  {
   "cell_type": "code",
   "execution_count": 3,
   "metadata": {
    "collapsed": false
   },
   "outputs": [
    {
     "name": "stdout",
     "output_type": "stream",
     "text": [
      "Retrieving tables...\n",
      "Parsing tables...\n",
      "Done.\n",
      "public.public.dual\n",
      "public.public.hipparcos\n",
      "public.public.hipparcos_newreduction\n",
      "public.public.hubble_sc\n",
      "public.public.igsl_source\n",
      "public.public.igsl_source_catalog_ids\n",
      "public.public.tycho2\n",
      "tap_schema.tap_schema.columns\n",
      "tap_schema.tap_schema.key_columns\n",
      "tap_schema.tap_schema.keys\n",
      "tap_schema.tap_schema.schemas\n",
      "tap_schema.tap_schema.tables\n",
      "gaiadr1.gaiadr1.aux_qso_icrf2_match\n",
      "gaiadr1.gaiadr1.ext_phot_zero_point\n",
      "gaiadr1.gaiadr1.allwise_best_neighbour\n",
      "gaiadr1.gaiadr1.allwise_neighbourhood\n",
      "gaiadr1.gaiadr1.gsc23_best_neighbour\n",
      "gaiadr1.gaiadr1.gsc23_neighbourhood\n",
      "gaiadr1.gaiadr1.ppmxl_best_neighbour\n",
      "gaiadr1.gaiadr1.ppmxl_neighbourhood\n",
      "gaiadr1.gaiadr1.sdss_dr9_best_neighbour\n",
      "gaiadr1.gaiadr1.sdss_dr9_neighbourhood\n",
      "gaiadr1.gaiadr1.tmass_best_neighbour\n",
      "gaiadr1.gaiadr1.tmass_neighbourhood\n",
      "gaiadr1.gaiadr1.ucac4_best_neighbour\n",
      "gaiadr1.gaiadr1.ucac4_neighbourhood\n",
      "gaiadr1.gaiadr1.urat1_best_neighbour\n",
      "gaiadr1.gaiadr1.urat1_neighbourhood\n",
      "gaiadr1.gaiadr1.cepheid\n",
      "gaiadr1.gaiadr1.phot_variable_time_series_gfov\n",
      "gaiadr1.gaiadr1.phot_variable_time_series_gfov_statistical_parameters\n",
      "gaiadr1.gaiadr1.rrlyrae\n",
      "gaiadr1.gaiadr1.variable_summary\n",
      "gaiadr1.gaiadr1.allwise_original_valid\n",
      "gaiadr1.gaiadr1.gsc23_original_valid\n",
      "gaiadr1.gaiadr1.ppmxl_original_valid\n",
      "gaiadr1.gaiadr1.sdssdr9_original_valid\n",
      "gaiadr1.gaiadr1.tmass_original_valid\n",
      "gaiadr1.gaiadr1.ucac4_original_valid\n",
      "gaiadr1.gaiadr1.urat1_original_valid\n",
      "gaiadr1.gaiadr1.gaia_source\n",
      "gaiadr1.gaiadr1.tgas_source\n",
      "gaiadr2.gaiadr2.aux_allwise_agn_gdr2_cross_id\n",
      "gaiadr2.gaiadr2.aux_iers_gdr2_cross_id\n",
      "gaiadr2.gaiadr2.aux_sso_orbit_residuals\n",
      "gaiadr2.gaiadr2.aux_sso_orbits\n",
      "gaiadr2.gaiadr2.dr1_neighbourhood\n",
      "gaiadr2.gaiadr2.allwise_best_neighbour\n",
      "gaiadr2.gaiadr2.allwise_neighbourhood\n",
      "gaiadr2.gaiadr2.apassdr9_best_neighbour\n",
      "gaiadr2.gaiadr2.apassdr9_neighbourhood\n",
      "gaiadr2.gaiadr2.gsc23_best_neighbour\n",
      "gaiadr2.gaiadr2.gsc23_neighbourhood\n",
      "gaiadr2.gaiadr2.hipparcos2_best_neighbour\n",
      "gaiadr2.gaiadr2.hipparcos2_neighbourhood\n",
      "gaiadr2.gaiadr2.panstarrs1_best_neighbour\n",
      "gaiadr2.gaiadr2.panstarrs1_neighbourhood\n",
      "gaiadr2.gaiadr2.ppmxl_best_neighbour\n",
      "gaiadr2.gaiadr2.ppmxl_neighbourhood\n",
      "gaiadr2.gaiadr2.ravedr5_best_neighbour\n",
      "gaiadr2.gaiadr2.ravedr5_neighbourhood\n",
      "gaiadr2.gaiadr2.sdssdr9_best_neighbour\n",
      "gaiadr2.gaiadr2.sdssdr9_neighbourhood\n",
      "gaiadr2.gaiadr2.tmass_best_neighbour\n",
      "gaiadr2.gaiadr2.tmass_neighbourhood\n",
      "gaiadr2.gaiadr2.tycho2_best_neighbour\n",
      "gaiadr2.gaiadr2.tycho2_neighbourhood\n",
      "gaiadr2.gaiadr2.urat1_best_neighbour\n",
      "gaiadr2.gaiadr2.urat1_neighbourhood\n",
      "gaiadr2.gaiadr2.sso_observation\n",
      "gaiadr2.gaiadr2.sso_source\n",
      "gaiadr2.gaiadr2.vari_cepheid\n",
      "gaiadr2.gaiadr2.vari_classifier_class_definition\n",
      "gaiadr2.gaiadr2.vari_classifier_definition\n",
      "gaiadr2.gaiadr2.vari_classifier_result\n",
      "gaiadr2.gaiadr2.vari_long_period_variable\n",
      "gaiadr2.gaiadr2.vari_rotation_modulation\n",
      "gaiadr2.gaiadr2.vari_rrlyrae\n",
      "gaiadr2.gaiadr2.vari_short_timescale\n",
      "gaiadr2.gaiadr2.vari_time_series_statistics\n",
      "gaiadr2.gaiadr2.panstarrs1_original_valid\n",
      "gaiadr2.gaiadr2.gaia_source\n"
     ]
    }
   ],
   "source": [
    "tables = tap_server.load_tables(only_names=True)\n",
    "for table in tables:\n",
    "    print(table.get_qualified_name())"
   ]
  },
  {
   "cell_type": "code",
   "execution_count": 4,
   "metadata": {
    "collapsed": false,
    "scrolled": false
   },
   "outputs": [
    {
     "name": "stdout",
     "output_type": "stream",
     "text": [
      "Retrieving table 'gaiadr2.gaia_source'\n",
      "Parsing table 'gaiadr2.gaia_source'...\n",
      "Done.\n",
      "\n",
      "# Table description:\n",
      "This table has an entry for every Gaia observed source as listed in the\n",
      "Main Database accumulating catalogue version from which the catalogue\n",
      "release has been generated. It contains the basic source parameters,\n",
      "that is only final data (no epoch data) and no spectra (neither final\n",
      "nor epoch).\n",
      "\n",
      "# Table columns:\n",
      "solution_id\n",
      "designation\n",
      "source_id\n",
      "random_index\n",
      "ref_epoch\n",
      "ra\n",
      "ra_error\n",
      "dec\n",
      "dec_error\n",
      "parallax\n",
      "parallax_error\n",
      "parallax_over_error\n",
      "pmra\n",
      "pmra_error\n",
      "pmdec\n",
      "pmdec_error\n",
      "ra_dec_corr\n",
      "ra_parallax_corr\n",
      "ra_pmra_corr\n",
      "ra_pmdec_corr\n",
      "dec_parallax_corr\n",
      "dec_pmra_corr\n",
      "dec_pmdec_corr\n",
      "parallax_pmra_corr\n",
      "parallax_pmdec_corr\n",
      "pmra_pmdec_corr\n",
      "astrometric_n_obs_al\n",
      "astrometric_n_obs_ac\n",
      "astrometric_n_good_obs_al\n",
      "astrometric_n_bad_obs_al\n",
      "astrometric_gof_al\n",
      "astrometric_chi2_al\n",
      "astrometric_excess_noise\n",
      "astrometric_excess_noise_sig\n",
      "astrometric_params_solved\n",
      "astrometric_primary_flag\n",
      "astrometric_weight_al\n",
      "astrometric_pseudo_colour\n",
      "astrometric_pseudo_colour_error\n",
      "mean_varpi_factor_al\n",
      "astrometric_matched_observations\n",
      "visibility_periods_used\n",
      "astrometric_sigma5d_max\n",
      "frame_rotator_object_type\n",
      "matched_observations\n",
      "duplicated_source\n",
      "phot_g_n_obs\n",
      "phot_g_mean_flux\n",
      "phot_g_mean_flux_error\n",
      "phot_g_mean_flux_over_error\n",
      "phot_g_mean_mag\n",
      "phot_bp_n_obs\n",
      "phot_bp_mean_flux\n",
      "phot_bp_mean_flux_error\n",
      "phot_bp_mean_flux_over_error\n",
      "phot_bp_mean_mag\n",
      "phot_rp_n_obs\n",
      "phot_rp_mean_flux\n",
      "phot_rp_mean_flux_error\n",
      "phot_rp_mean_flux_over_error\n",
      "phot_rp_mean_mag\n",
      "phot_bp_rp_excess_factor\n",
      "phot_proc_mode\n",
      "bp_rp\n",
      "bp_g\n",
      "g_rp\n",
      "radial_velocity\n",
      "radial_velocity_error\n",
      "rv_nb_transits\n",
      "rv_template_teff\n",
      "rv_template_logg\n",
      "rv_template_fe_h\n",
      "phot_variable_flag\n",
      "l\n",
      "b\n",
      "ecl_lon\n",
      "ecl_lat\n",
      "priam_flags\n",
      "teff_val\n",
      "teff_percentile_lower\n",
      "teff_percentile_upper\n",
      "a_g_val\n",
      "a_g_percentile_lower\n",
      "a_g_percentile_upper\n",
      "e_bp_min_rp_val\n",
      "e_bp_min_rp_percentile_lower\n",
      "e_bp_min_rp_percentile_upper\n",
      "flame_flags\n",
      "radius_val\n",
      "radius_percentile_lower\n",
      "radius_percentile_upper\n",
      "lum_val\n",
      "lum_percentile_lower\n",
      "lum_percentile_upper\n",
      "datalink_url\n",
      "epoch_photometry_url\n"
     ]
    }
   ],
   "source": [
    "catalog = tap_server.load_table('gaiadr2.gaia_source')\n",
    "\n",
    "print('\\n# Table description:')\n",
    "print(catalog.get_description())\n",
    "\n",
    "print('\\n# Table columns:')\n",
    "for column in catalog.get_columns():\n",
    "    print(column.get_name())"
   ]
  },
  {
   "cell_type": "markdown",
   "metadata": {},
   "source": [
    "### Writing the ADQL query and submiting the job:\n",
    "\n",
    "The ADQL query needs to be a string, which astroquery will send directly to the TAP server.\n",
    "\n",
    "**WARNING:** Do not submit large queries as synchronous jobs."
   ]
  },
  {
   "cell_type": "code",
   "execution_count": 5,
   "metadata": {
    "collapsed": false
   },
   "outputs": [
    {
     "name": "stdout",
     "output_type": "stream",
     "text": [
      "Launched query: 'select TOP 5 * FROM gaiadr2.gaia_source'\n",
      "Retrieving async. results...\n"
     ]
    },
    {
     "name": "stderr",
     "output_type": "stream",
     "text": [
      "WARNING: W27: None:3:0: W27: COOSYS deprecated in VOTable 1.2 [astropy.io.votable.exceptions]\n",
      "WARNING: W35: None:5:0: W35: 'value' attribute required for INFO elements [astropy.io.votable.exceptions]\n",
      "WARNING: W35: None:6:0: W35: 'value' attribute required for INFO elements [astropy.io.votable.exceptions]\n",
      "WARNING: W35: None:7:0: W35: 'value' attribute required for INFO elements [astropy.io.votable.exceptions]\n",
      "WARNING: W35: None:8:0: W35: 'value' attribute required for INFO elements [astropy.io.votable.exceptions]\n",
      "WARNING: W35: None:10:0: W35: 'value' attribute required for INFO elements [astropy.io.votable.exceptions]\n",
      "WARNING: W06: None:45:0: W06: Invalid UCD 'arith.ratio': Secondary word 'arith.ratio' is not valid as a primary word [astropy.io.votable.exceptions]\n",
      "WARNING: W50: None:48:0: W50: Invalid unit string 'mas.yr**-1' [astropy.io.votable.exceptions]\n",
      "WARNING: W50: None:51:0: W50: Invalid unit string 'mas.yr**-1' [astropy.io.votable.exceptions]\n",
      "WARNING: W50: None:54:0: W50: Invalid unit string 'mas.yr**-1' [astropy.io.votable.exceptions]\n",
      "WARNING: W50: None:57:0: W50: Invalid unit string 'mas.yr**-1' [astropy.io.votable.exceptions]\n",
      "WARNING: W50: None:120:0: W50: Invalid unit string 'mas**-2' [astropy.io.votable.exceptions]\n",
      "WARNING: W50: None:123:0: W50: Invalid unit string 'um**-1' [astropy.io.votable.exceptions]\n",
      "WARNING: W06: None:126:0: W06: Invalid UCD 'em.wavenumber;stat.error': Primary word 'stat.error' is not valid as a secondary word [astropy.io.votable.exceptions]\n",
      "WARNING: W50: None:126:0: W50: Invalid unit string 'um**-1' [astropy.io.votable.exceptions]\n",
      "WARNING: W06: None:138:0: W06: Invalid UCD 'pos.errorEllipse;stat.max': Secondary word 'pos.errorEllipse' is not valid as a primary word [astropy.io.votable.exceptions]\n",
      "WARNING: W50: None:153:0: W50: Invalid unit string ''electron'.s**-1' [astropy.io.votable.exceptions]\n",
      "WARNING: W50: None:156:0: W50: Invalid unit string ''electron'.s**-1' [astropy.io.votable.exceptions]\n",
      "WARNING: W06: None:159:0: W06: Invalid UCD 'arith.ratio': Secondary word 'arith.ratio' is not valid as a primary word [astropy.io.votable.exceptions]\n",
      "WARNING: W50: None:168:0: W50: Invalid unit string ''electron'.s**-1' (suppressing further warnings of this type...) [astropy.io.votable.exceptions]\n",
      "WARNING: W06: None:174:0: W06: Invalid UCD 'arith.ratio': Secondary word 'arith.ratio' is not valid as a primary word [astropy.io.votable.exceptions]\n",
      "WARNING: W06: None:189:0: W06: Invalid UCD 'arith.ratio': Secondary word 'arith.ratio' is not valid as a primary word [astropy.io.votable.exceptions]\n",
      "WARNING: W06: None:201:0: W06: Invalid UCD 'phot.color': Unknown word 'phot.color' [astropy.io.votable.exceptions]\n",
      "WARNING: W06: None:204:0: W06: Invalid UCD 'phot.color': Unknown word 'phot.color' [astropy.io.votable.exceptions]\n",
      "WARNING: W06: None:207:0: W06: Invalid UCD 'phot.color': Unknown word 'phot.color' [astropy.io.votable.exceptions]\n",
      "WARNING: W06: None:279:0: W06: Invalid UCD 'phys.size.radius;stat.error': Primary word 'stat.error' is not valid as a secondary word (suppressing further warnings of this type...) [astropy.io.votable.exceptions]\n"
     ]
    },
    {
     "name": "stdout",
     "output_type": "stream",
     "text": [
      "Query finished.\n"
     ]
    }
   ],
   "source": [
    "query = \"select TOP 5 * FROM gaiadr2.gaia_source\"\n",
    "search = tap_server.launch_job_async(query)"
   ]
  },
  {
   "cell_type": "markdown",
   "metadata": {},
   "source": [
    "### Getting results in form of a astropy table:"
   ]
  },
  {
   "cell_type": "code",
   "execution_count": 6,
   "metadata": {
    "collapsed": false
   },
   "outputs": [
    {
     "data": {
      "text/html": [
       "&lt;Table masked=True length=5&gt;\n",
       "<table id=\"table4524395024\" class=\"table-striped table-bordered table-condensed\">\n",
       "<thead><tr><th>solution_id</th><th>designation</th><th>source_id</th><th>random_index</th><th>ref_epoch</th><th>ra</th><th>ra_error</th><th>dec</th><th>dec_error</th><th>parallax</th><th>parallax_error</th><th>parallax_over_error</th><th>pmra</th><th>pmra_error</th><th>pmdec</th><th>pmdec_error</th><th>ra_dec_corr</th><th>ra_parallax_corr</th><th>ra_pmra_corr</th><th>ra_pmdec_corr</th><th>dec_parallax_corr</th><th>dec_pmra_corr</th><th>dec_pmdec_corr</th><th>parallax_pmra_corr</th><th>parallax_pmdec_corr</th><th>pmra_pmdec_corr</th><th>astrometric_n_obs_al</th><th>astrometric_n_obs_ac</th><th>astrometric_n_good_obs_al</th><th>astrometric_n_bad_obs_al</th><th>astrometric_gof_al</th><th>astrometric_chi2_al</th><th>astrometric_excess_noise</th><th>astrometric_excess_noise_sig</th><th>astrometric_params_solved</th><th>astrometric_primary_flag</th><th>astrometric_weight_al</th><th>astrometric_pseudo_colour</th><th>astrometric_pseudo_colour_error</th><th>mean_varpi_factor_al</th><th>astrometric_matched_observations</th><th>visibility_periods_used</th><th>astrometric_sigma5d_max</th><th>frame_rotator_object_type</th><th>matched_observations</th><th>duplicated_source</th><th>phot_g_n_obs</th><th>phot_g_mean_flux</th><th>phot_g_mean_flux_error</th><th>phot_g_mean_flux_over_error</th><th>phot_g_mean_mag</th><th>phot_bp_n_obs</th><th>phot_bp_mean_flux</th><th>phot_bp_mean_flux_error</th><th>phot_bp_mean_flux_over_error</th><th>phot_bp_mean_mag</th><th>phot_rp_n_obs</th><th>phot_rp_mean_flux</th><th>phot_rp_mean_flux_error</th><th>phot_rp_mean_flux_over_error</th><th>phot_rp_mean_mag</th><th>phot_bp_rp_excess_factor</th><th>phot_proc_mode</th><th>bp_rp</th><th>bp_g</th><th>g_rp</th><th>radial_velocity</th><th>radial_velocity_error</th><th>rv_nb_transits</th><th>rv_template_teff</th><th>rv_template_logg</th><th>rv_template_fe_h</th><th>phot_variable_flag</th><th>l</th><th>b</th><th>ecl_lon</th><th>ecl_lat</th><th>priam_flags</th><th>teff_val</th><th>teff_percentile_lower</th><th>teff_percentile_upper</th><th>a_g_val</th><th>a_g_percentile_lower</th><th>a_g_percentile_upper</th><th>e_bp_min_rp_val</th><th>e_bp_min_rp_percentile_lower</th><th>e_bp_min_rp_percentile_upper</th><th>flame_flags</th><th>radius_val</th><th>radius_percentile_lower</th><th>radius_percentile_upper</th><th>lum_val</th><th>lum_percentile_lower</th><th>lum_percentile_upper</th><th>datalink_url</th><th>epoch_photometry_url</th></tr></thead>\n",
       "<thead><tr><th></th><th></th><th></th><th></th><th>yr</th><th>deg</th><th>mas</th><th>deg</th><th>mas</th><th>mas</th><th>mas</th><th></th><th>mas.yr**-1</th><th>mas.yr**-1</th><th>mas.yr**-1</th><th>mas.yr**-1</th><th></th><th></th><th></th><th></th><th></th><th></th><th></th><th></th><th></th><th></th><th></th><th></th><th></th><th></th><th></th><th></th><th>mas</th><th></th><th></th><th></th><th>mas**-2</th><th>um**-1</th><th>um**-1</th><th></th><th></th><th></th><th>mas</th><th></th><th></th><th></th><th></th><th>&apos;electron&apos;.s**-1</th><th>&apos;electron&apos;.s**-1</th><th></th><th>mag</th><th></th><th>&apos;electron&apos;.s**-1</th><th>&apos;electron&apos;.s**-1</th><th></th><th>mag</th><th></th><th>&apos;electron&apos;.s**-1</th><th>&apos;electron&apos;.s**-1</th><th></th><th>mag</th><th></th><th></th><th>mag</th><th>mag</th><th>mag</th><th>km.s**-1</th><th>km.s**-1</th><th></th><th>K</th><th>log(cm.s**-2)</th><th>&apos;dex&apos;</th><th></th><th>deg</th><th>deg</th><th>deg</th><th>deg</th><th></th><th>K</th><th>K</th><th>K</th><th>mag</th><th>mag</th><th>mag</th><th>mag</th><th>mag</th><th>mag</th><th></th><th>Rsun</th><th>Rsun</th><th>Rsun</th><th>Lsun</th><th>Lsun</th><th>Lsun</th><th></th><th></th></tr></thead>\n",
       "<thead><tr><th>int64</th><th>object</th><th>int64</th><th>int64</th><th>float64</th><th>float64</th><th>float64</th><th>float64</th><th>float64</th><th>float64</th><th>float64</th><th>float32</th><th>float64</th><th>float64</th><th>float64</th><th>float64</th><th>float32</th><th>float32</th><th>float32</th><th>float32</th><th>float32</th><th>float32</th><th>float32</th><th>float32</th><th>float32</th><th>float32</th><th>int32</th><th>int32</th><th>int32</th><th>int32</th><th>float32</th><th>float32</th><th>float64</th><th>float64</th><th>int16</th><th>bool</th><th>float32</th><th>float64</th><th>float64</th><th>float32</th><th>int16</th><th>int16</th><th>float32</th><th>int32</th><th>int16</th><th>bool</th><th>int32</th><th>float64</th><th>float64</th><th>float32</th><th>float32</th><th>int32</th><th>float64</th><th>float64</th><th>float32</th><th>float32</th><th>int32</th><th>float64</th><th>float64</th><th>float32</th><th>float32</th><th>float32</th><th>int16</th><th>float32</th><th>float32</th><th>float32</th><th>float64</th><th>float64</th><th>int32</th><th>float32</th><th>float32</th><th>float32</th><th>object</th><th>float64</th><th>float64</th><th>float64</th><th>float64</th><th>int64</th><th>float32</th><th>float32</th><th>float32</th><th>float32</th><th>float32</th><th>float32</th><th>float32</th><th>float32</th><th>float32</th><th>int64</th><th>float32</th><th>float32</th><th>float32</th><th>float32</th><th>float32</th><th>float32</th><th>object</th><th>object</th></tr></thead>\n",
       "<tr><td>1635721458409799680</td><td>Gaia DR2 4289587561732446336</td><td>4289587561732446336</td><td>490409848</td><td>2015.5</td><td>292.92651032006899</td><td>1.1390183113971692</td><td>4.1797168492557928</td><td>1.0360903559089303</td><td>1.2049534518877696</td><td>1.7830434167676534</td><td>0.67578471</td><td>-0.086268346265941154</td><td>3.0501031227444537</td><td>-4.1574902740736501</td><td>1.5804286622237025</td><td>0.76631081</td><td>-0.65310866</td><td>-0.47489461</td><td>0.29293528</td><td>-0.74204934</td><td>-0.64748907</td><td>0.56540787</td><td>0.60307342</td><td>-0.5786221</td><td>-0.096658081</td><td>192</td><td>0</td><td>191</td><td>1</td><td>-0.080699638</td><td>183.78571</td><td>0.0</td><td>0.0</td><td>31</td><td>False</td><td>0.042295214</td><td>1.5516295053127929</td><td>0.14389712511255151</td><td>0.02072254</td><td>22</td><td>8</td><td>2.9907756</td><td>0</td><td>27</td><td>False</td><td>226</td><td>133.2537875409775</td><td>0.94295554517784297</td><td>141.31503</td><td>20.376667</td><td>18</td><td>68.30370582416468</td><td>6.4647743416420935</td><td>10.56552</td><td>20.765278</td><td>20</td><td>156.47699792027927</td><td>9.6843517959246253</td><td>16.157715</td><td>19.275793</td><td>1.6868616</td><td>0</td><td>1.4894848</td><td>0.38861084</td><td>1.1008739</td><td>--</td><td>--</td><td>0</td><td>--</td><td>--</td><td>--</td><td>NOT_AVAILABLE</td><td>41.29502870103989</td><td>-7.0030327242997563</td><td>295.52108631289593</td><td>25.610505145396576</td><td>--</td><td>--</td><td>--</td><td>--</td><td>--</td><td>--</td><td>--</td><td>--</td><td>--</td><td>--</td><td>--</td><td>--</td><td>--</td><td>--</td><td>--</td><td>--</td><td>--</td><td>http://geadata.esac.esa.int/data-server/datalink/links?ID=4289587561732446336</td><td>--</td></tr>\n",
       "<tr><td>1635721458409799680</td><td>Gaia DR2 4289589825149019264</td><td>4289589825149019264</td><td>245204924</td><td>2015.5</td><td>292.9996636175178</td><td>0.49191483012559217</td><td>4.2666734850689316</td><td>0.35881143909061397</td><td>1.2055575600577655</td><td>0.58982664174904109</td><td>2.0439184</td><td>-2.8286058261353948</td><td>1.0932457665771047</td><td>-7.1993228865711192</td><td>0.73107289324625013</td><td>0.34399268</td><td>-0.37635779</td><td>0.28587136</td><td>0.055911351</td><td>-0.4346346</td><td>-0.17873237</td><td>0.64524508</td><td>0.021191098</td><td>-0.43137076</td><td>0.25791982</td><td>234</td><td>0</td><td>234</td><td>0</td><td>1.764185</td><td>268.12683</td><td>0.0</td><td>0.0</td><td>31</td><td>False</td><td>0.16515297</td><td>1.6414483327606313</td><td>0.062330187593806693</td><td>-0.018188367</td><td>27</td><td>9</td><td>0.99460572</td><td>0</td><td>31</td><td>False</td><td>266</td><td>340.57268721093243</td><td>1.2984286669548553</td><td>262.29602</td><td>19.357841</td><td>27</td><td>157.33205021693541</td><td>8.6212461529802358</td><td>18.24934</td><td>19.859344</td><td>29</td><td>272.5101026544811</td><td>9.2013650524334434</td><td>29.616268</td><td>18.673464</td><td>1.2621157</td><td>0</td><td>1.1858807</td><td>0.50150299</td><td>0.68437767</td><td>--</td><td>--</td><td>0</td><td>--</td><td>--</td><td>--</td><td>NOT_AVAILABLE</td><td>41.406902103754597</td><td>-7.0265879519428909</td><td>295.61741152093646</td><td>25.683604562174509</td><td>--</td><td>--</td><td>--</td><td>--</td><td>--</td><td>--</td><td>--</td><td>--</td><td>--</td><td>--</td><td>--</td><td>--</td><td>--</td><td>--</td><td>--</td><td>--</td><td>--</td><td>http://geadata.esac.esa.int/data-server/datalink/links?ID=4289589825149019264</td><td>--</td></tr>\n",
       "<tr><td>1635721458409799680</td><td>Gaia DR2 4289615599262726912</td><td>4289615599262726912</td><td>122602462</td><td>2015.5</td><td>292.22388822788491</td><td>0.25684304085515614</td><td>4.1018409056497456</td><td>0.26021972072965383</td><td>0.72999820283853578</td><td>0.32124008213053779</td><td>2.272438</td><td>-1.1376938685177602</td><td>0.57326761968887141</td><td>-7.0916776957842451</td><td>0.58120827208215364</td><td>0.38198602</td><td>-0.085465342</td><td>-0.039104983</td><td>-0.19488738</td><td>-0.20219146</td><td>-0.13736756</td><td>-0.086724348</td><td>-0.18546301</td><td>0.124268</td><td>0.38514307</td><td>189</td><td>0</td><td>188</td><td>1</td><td>3.7645459</td><td>264.02887</td><td>1.1977568988461562</td><td>3.8497041960340868</td><td>31</td><td>False</td><td>0.19770242</td><td>1.507008005675998</td><td>0.062058113541064205</td><td>0.26428992</td><td>21</td><td>11</td><td>0.59958148</td><td>0</td><td>22</td><td>False</td><td>196</td><td>457.5538920941807</td><td>1.3895512018755785</td><td>329.28177</td><td>19.03726</td><td>19</td><td>208.51568840055839</td><td>11.554435941736745</td><td>18.046375</td><td>19.553541</td><td>20</td><td>378.34395723045185</td><td>10.626008546556282</td><td>35.605465</td><td>18.317204</td><td>1.2826022</td><td>0</td><td>1.2363377</td><td>0.51628113</td><td>0.72005653</td><td>--</td><td>--</td><td>0</td><td>--</td><td>--</td><td>--</td><td>NOT_AVAILABLE</td><td>40.894930846759152</td><td>-6.4205568508121793</td><td>294.74040969172398</td><td>25.652447696452082</td><td>--</td><td>--</td><td>--</td><td>--</td><td>--</td><td>--</td><td>--</td><td>--</td><td>--</td><td>--</td><td>--</td><td>--</td><td>--</td><td>--</td><td>--</td><td>--</td><td>--</td><td>http://geadata.esac.esa.int/data-server/datalink/links?ID=4289615599262726912</td><td>--</td></tr>\n",
       "<tr><td>1635721458409799680</td><td>Gaia DR2 4289587733506842112</td><td>4289587733506842112</td><td>1625938043</td><td>2015.5</td><td>292.85823736327308</td><td>0.41736261364605198</td><td>4.184627783979078</td><td>0.33103527287235102</td><td>-0.17069443904996162</td><td>0.50264261621970707</td><td>-0.33959404</td><td>-1.7666756224800209</td><td>0.87489237627376704</td><td>-5.222079580638523</td><td>0.63936613498151973</td><td>0.51365286</td><td>-0.30359852</td><td>-0.012478899</td><td>-0.14668347</td><td>-0.14829047</td><td>-0.20470072</td><td>0.16581608</td><td>-0.31796318</td><td>-0.1961422</td><td>0.46586165</td><td>239</td><td>0</td><td>235</td><td>4</td><td>2.6014106</td><td>289.64905</td><td>1.260166065481559</td><td>2.3839164140211233</td><td>31</td><td>False</td><td>0.11315764</td><td>1.4552172052260373</td><td>0.071300587957004821</td><td>0.1598915</td><td>27</td><td>11</td><td>0.84332293</td><td>0</td><td>30</td><td>False</td><td>258</td><td>317.0517113252011</td><td>1.1972759104022168</td><td>264.81091</td><td>19.435541</td><td>15</td><td>160.04024308959569</td><td>11.516517534871832</td><td>13.896584</td><td>19.840815</td><td>13</td><td>322.33665664902963</td><td>5.3446708033054122</td><td>60.309917</td><td>18.491146</td><td>1.5214455</td><td>0</td><td>1.3496685</td><td>0.40527344</td><td>0.94439507</td><td>--</td><td>--</td><td>0</td><td>--</td><td>--</td><td>--</td><td>NOT_AVAILABLE</td><td>41.267186608827835</td><td>-6.9406086705664967</td><td>295.44762619542172</td><td>25.627028103091828</td><td>--</td><td>--</td><td>--</td><td>--</td><td>--</td><td>--</td><td>--</td><td>--</td><td>--</td><td>--</td><td>--</td><td>--</td><td>--</td><td>--</td><td>--</td><td>--</td><td>--</td><td>http://geadata.esac.esa.int/data-server/datalink/links?ID=4289587733506842112</td><td>--</td></tr>\n",
       "<tr><td>1635721458409799680</td><td>Gaia DR2 4289603813868015744</td><td>4289603813868015744</td><td>1480226334</td><td>2015.5</td><td>292.93122430762111</td><td>6.3165532977314971</td><td>4.3840438676907674</td><td>4.0658691530536171</td><td>--</td><td>--</td><td>--</td><td>--</td><td>--</td><td>--</td><td>--</td><td>0.94966304</td><td>--</td><td>--</td><td>--</td><td>--</td><td>--</td><td>--</td><td>--</td><td>--</td><td>--</td><td>115</td><td>0</td><td>115</td><td>0</td><td>-1.3421897</td><td>90.681549</td><td>0.0</td><td>0.0</td><td>3</td><td>False</td><td>0.022594981</td><td>--</td><td>--</td><td>0.023026561</td><td>13</td><td>4</td><td>28.082546</td><td>0</td><td>17</td><td>False</td><td>150</td><td>93.745845662734368</td><td>1.0804829683167092</td><td>86.762909</td><td>20.758486</td><td>0</td><td>--</td><td>--</td><td>--</td><td>--</td><td>0</td><td>--</td><td>--</td><td>--</td><td>--</td><td>--</td><td>2</td><td>--</td><td>--</td><td>--</td><td>--</td><td>--</td><td>0</td><td>--</td><td>--</td><td>--</td><td>NOT_AVAILABLE</td><td>41.47896709773218</td><td>-6.9111921487946582</td><td>295.56523150684103</td><td>25.810978609468179</td><td>--</td><td>--</td><td>--</td><td>--</td><td>--</td><td>--</td><td>--</td><td>--</td><td>--</td><td>--</td><td>--</td><td>--</td><td>--</td><td>--</td><td>--</td><td>--</td><td>--</td><td>http://geadata.esac.esa.int/data-server/datalink/links?ID=4289603813868015744</td><td>--</td></tr>\n",
       "</table>"
      ],
      "text/plain": [
       "<Table masked=True length=5>\n",
       "    solution_id             designation          ... epoch_photometry_url\n",
       "                                                 ...                     \n",
       "       int64                   object            ...        object       \n",
       "------------------- ---------------------------- ... --------------------\n",
       "1635721458409799680 Gaia DR2 4289587561732446336 ...                   --\n",
       "1635721458409799680 Gaia DR2 4289589825149019264 ...                   --\n",
       "1635721458409799680 Gaia DR2 4289615599262726912 ...                   --\n",
       "1635721458409799680 Gaia DR2 4289587733506842112 ...                   --\n",
       "1635721458409799680 Gaia DR2 4289603813868015744 ...                   --"
      ]
     },
     "execution_count": 6,
     "metadata": {},
     "output_type": "execute_result"
    }
   ],
   "source": [
    "astropy_results = search.get_results()\n",
    "astropy_results"
   ]
  },
  {
   "cell_type": "markdown",
   "metadata": {},
   "source": [
    "## 2. PyVO:"
   ]
  },
  {
   "cell_type": "code",
   "execution_count": 7,
   "metadata": {
    "collapsed": false
   },
   "outputs": [
    {
     "name": "stderr",
     "output_type": "stream",
     "text": [
      "WARNING: AstropyDeprecationWarning: Using the table property is deprecated. Please use se to_table() instead. [pyvo.dal.query]\n"
     ]
    },
    {
     "data": {
      "text/html": [
       "&lt;Table masked=True length=5&gt;\n",
       "<table id=\"table4549813648\" class=\"table-striped table-bordered table-condensed\">\n",
       "<thead><tr><th>solution_id</th><th>designation</th><th>source_id</th><th>random_index</th><th>ref_epoch</th><th>ra</th><th>ra_error</th><th>dec</th><th>dec_error</th><th>parallax</th><th>parallax_error</th><th>parallax_over_error</th><th>pmra</th><th>pmra_error</th><th>pmdec</th><th>pmdec_error</th><th>ra_dec_corr</th><th>ra_parallax_corr</th><th>ra_pmra_corr</th><th>ra_pmdec_corr</th><th>dec_parallax_corr</th><th>dec_pmra_corr</th><th>dec_pmdec_corr</th><th>parallax_pmra_corr</th><th>parallax_pmdec_corr</th><th>pmra_pmdec_corr</th><th>astrometric_n_obs_al</th><th>astrometric_n_obs_ac</th><th>astrometric_n_good_obs_al</th><th>astrometric_n_bad_obs_al</th><th>astrometric_gof_al</th><th>astrometric_chi2_al</th><th>astrometric_excess_noise</th><th>astrometric_excess_noise_sig</th><th>astrometric_params_solved</th><th>astrometric_primary_flag</th><th>astrometric_weight_al</th><th>astrometric_pseudo_colour</th><th>astrometric_pseudo_colour_error</th><th>mean_varpi_factor_al</th><th>astrometric_matched_observations</th><th>visibility_periods_used</th><th>astrometric_sigma5d_max</th><th>frame_rotator_object_type</th><th>matched_observations</th><th>duplicated_source</th><th>phot_g_n_obs</th><th>phot_g_mean_flux</th><th>phot_g_mean_flux_error</th><th>phot_g_mean_flux_over_error</th><th>phot_g_mean_mag</th><th>phot_bp_n_obs</th><th>phot_bp_mean_flux</th><th>phot_bp_mean_flux_error</th><th>phot_bp_mean_flux_over_error</th><th>phot_bp_mean_mag</th><th>phot_rp_n_obs</th><th>phot_rp_mean_flux</th><th>phot_rp_mean_flux_error</th><th>phot_rp_mean_flux_over_error</th><th>phot_rp_mean_mag</th><th>phot_bp_rp_excess_factor</th><th>phot_proc_mode</th><th>bp_rp</th><th>bp_g</th><th>g_rp</th><th>radial_velocity</th><th>radial_velocity_error</th><th>rv_nb_transits</th><th>rv_template_teff</th><th>rv_template_logg</th><th>rv_template_fe_h</th><th>phot_variable_flag</th><th>l</th><th>b</th><th>ecl_lon</th><th>ecl_lat</th><th>priam_flags</th><th>teff_val</th><th>teff_percentile_lower</th><th>teff_percentile_upper</th><th>a_g_val</th><th>a_g_percentile_lower</th><th>a_g_percentile_upper</th><th>e_bp_min_rp_val</th><th>e_bp_min_rp_percentile_lower</th><th>e_bp_min_rp_percentile_upper</th><th>flame_flags</th><th>radius_val</th><th>radius_percentile_lower</th><th>radius_percentile_upper</th><th>lum_val</th><th>lum_percentile_lower</th><th>lum_percentile_upper</th><th>datalink_url</th><th>epoch_photometry_url</th></tr></thead>\n",
       "<thead><tr><th></th><th></th><th></th><th></th><th>yr</th><th>deg</th><th>mas</th><th>deg</th><th>mas</th><th>mas</th><th>mas</th><th></th><th>mas.yr**-1</th><th>mas.yr**-1</th><th>mas.yr**-1</th><th>mas.yr**-1</th><th></th><th></th><th></th><th></th><th></th><th></th><th></th><th></th><th></th><th></th><th></th><th></th><th></th><th></th><th></th><th></th><th>mas</th><th></th><th></th><th></th><th>mas**-2</th><th>um**-1</th><th>um**-1</th><th></th><th></th><th></th><th>mas</th><th></th><th></th><th></th><th></th><th>&apos;electron&apos;.s**-1</th><th>&apos;electron&apos;.s**-1</th><th></th><th>mag</th><th></th><th>&apos;electron&apos;.s**-1</th><th>&apos;electron&apos;.s**-1</th><th></th><th>mag</th><th></th><th>&apos;electron&apos;.s**-1</th><th>&apos;electron&apos;.s**-1</th><th></th><th>mag</th><th></th><th></th><th>mag</th><th>mag</th><th>mag</th><th>km.s**-1</th><th>km.s**-1</th><th></th><th>K</th><th>log(cm.s**-2)</th><th>&apos;dex&apos;</th><th></th><th>deg</th><th>deg</th><th>deg</th><th>deg</th><th></th><th>K</th><th>K</th><th>K</th><th>mag</th><th>mag</th><th>mag</th><th>mag</th><th>mag</th><th>mag</th><th></th><th>Rsun</th><th>Rsun</th><th>Rsun</th><th>Lsun</th><th>Lsun</th><th>Lsun</th><th></th><th></th></tr></thead>\n",
       "<thead><tr><th>int64</th><th>object</th><th>int64</th><th>int64</th><th>float64</th><th>float64</th><th>float64</th><th>float64</th><th>float64</th><th>float64</th><th>float64</th><th>float32</th><th>float64</th><th>float64</th><th>float64</th><th>float64</th><th>float32</th><th>float32</th><th>float32</th><th>float32</th><th>float32</th><th>float32</th><th>float32</th><th>float32</th><th>float32</th><th>float32</th><th>int32</th><th>int32</th><th>int32</th><th>int32</th><th>float32</th><th>float32</th><th>float64</th><th>float64</th><th>int16</th><th>bool</th><th>float32</th><th>float64</th><th>float64</th><th>float32</th><th>int16</th><th>int16</th><th>float32</th><th>int32</th><th>int16</th><th>bool</th><th>int32</th><th>float64</th><th>float64</th><th>float32</th><th>float32</th><th>int32</th><th>float64</th><th>float64</th><th>float32</th><th>float32</th><th>int32</th><th>float64</th><th>float64</th><th>float32</th><th>float32</th><th>float32</th><th>int16</th><th>float32</th><th>float32</th><th>float32</th><th>float64</th><th>float64</th><th>int32</th><th>float32</th><th>float32</th><th>float32</th><th>object</th><th>float64</th><th>float64</th><th>float64</th><th>float64</th><th>int64</th><th>float32</th><th>float32</th><th>float32</th><th>float32</th><th>float32</th><th>float32</th><th>float32</th><th>float32</th><th>float32</th><th>int64</th><th>float32</th><th>float32</th><th>float32</th><th>float32</th><th>float32</th><th>float32</th><th>object</th><th>object</th></tr></thead>\n",
       "<tr><td>1635721458409799680</td><td>Gaia DR2 4289587561732446336</td><td>4289587561732446336</td><td>490409848</td><td>2015.5</td><td>292.92651032006899</td><td>1.1390183113971692</td><td>4.1797168492557928</td><td>1.0360903559089303</td><td>1.2049534518877696</td><td>1.7830434167676534</td><td>0.67578471</td><td>-0.086268346265941154</td><td>3.0501031227444537</td><td>-4.1574902740736501</td><td>1.5804286622237025</td><td>0.76631081</td><td>-0.65310866</td><td>-0.47489461</td><td>0.29293528</td><td>-0.74204934</td><td>-0.64748907</td><td>0.56540787</td><td>0.60307342</td><td>-0.5786221</td><td>-0.096658081</td><td>192</td><td>0</td><td>191</td><td>1</td><td>-0.080699638</td><td>183.78571</td><td>0.0</td><td>0.0</td><td>31</td><td>False</td><td>0.042295214</td><td>1.5516295053127929</td><td>0.14389712511255151</td><td>0.02072254</td><td>22</td><td>8</td><td>2.9907756</td><td>0</td><td>27</td><td>False</td><td>226</td><td>133.2537875409775</td><td>0.94295554517784297</td><td>141.31503</td><td>20.376667</td><td>18</td><td>68.30370582416468</td><td>6.4647743416420935</td><td>10.56552</td><td>20.765278</td><td>20</td><td>156.47699792027927</td><td>9.6843517959246253</td><td>16.157715</td><td>19.275793</td><td>1.6868616</td><td>0</td><td>1.4894848</td><td>0.38861084</td><td>1.1008739</td><td>--</td><td>--</td><td>0</td><td>--</td><td>--</td><td>--</td><td>NOT_AVAILABLE</td><td>41.29502870103989</td><td>-7.0030327242997563</td><td>295.52108631289593</td><td>25.610505145396576</td><td>--</td><td>--</td><td>--</td><td>--</td><td>--</td><td>--</td><td>--</td><td>--</td><td>--</td><td>--</td><td>--</td><td>--</td><td>--</td><td>--</td><td>--</td><td>--</td><td>--</td><td>http://geadata.esac.esa.int/data-server/datalink/links?ID=4289587561732446336</td><td>--</td></tr>\n",
       "<tr><td>1635721458409799680</td><td>Gaia DR2 4289589825149019264</td><td>4289589825149019264</td><td>245204924</td><td>2015.5</td><td>292.9996636175178</td><td>0.49191483012559217</td><td>4.2666734850689316</td><td>0.35881143909061397</td><td>1.2055575600577655</td><td>0.58982664174904109</td><td>2.0439184</td><td>-2.8286058261353948</td><td>1.0932457665771047</td><td>-7.1993228865711192</td><td>0.73107289324625013</td><td>0.34399268</td><td>-0.37635779</td><td>0.28587136</td><td>0.055911351</td><td>-0.4346346</td><td>-0.17873237</td><td>0.64524508</td><td>0.021191098</td><td>-0.43137076</td><td>0.25791982</td><td>234</td><td>0</td><td>234</td><td>0</td><td>1.764185</td><td>268.12683</td><td>0.0</td><td>0.0</td><td>31</td><td>False</td><td>0.16515297</td><td>1.6414483327606313</td><td>0.062330187593806693</td><td>-0.018188367</td><td>27</td><td>9</td><td>0.99460572</td><td>0</td><td>31</td><td>False</td><td>266</td><td>340.57268721093243</td><td>1.2984286669548553</td><td>262.29602</td><td>19.357841</td><td>27</td><td>157.33205021693541</td><td>8.6212461529802358</td><td>18.24934</td><td>19.859344</td><td>29</td><td>272.5101026544811</td><td>9.2013650524334434</td><td>29.616268</td><td>18.673464</td><td>1.2621157</td><td>0</td><td>1.1858807</td><td>0.50150299</td><td>0.68437767</td><td>--</td><td>--</td><td>0</td><td>--</td><td>--</td><td>--</td><td>NOT_AVAILABLE</td><td>41.406902103754597</td><td>-7.0265879519428909</td><td>295.61741152093646</td><td>25.683604562174509</td><td>--</td><td>--</td><td>--</td><td>--</td><td>--</td><td>--</td><td>--</td><td>--</td><td>--</td><td>--</td><td>--</td><td>--</td><td>--</td><td>--</td><td>--</td><td>--</td><td>--</td><td>http://geadata.esac.esa.int/data-server/datalink/links?ID=4289589825149019264</td><td>--</td></tr>\n",
       "<tr><td>1635721458409799680</td><td>Gaia DR2 4289615599262726912</td><td>4289615599262726912</td><td>122602462</td><td>2015.5</td><td>292.22388822788491</td><td>0.25684304085515614</td><td>4.1018409056497456</td><td>0.26021972072965383</td><td>0.72999820283853578</td><td>0.32124008213053779</td><td>2.272438</td><td>-1.1376938685177602</td><td>0.57326761968887141</td><td>-7.0916776957842451</td><td>0.58120827208215364</td><td>0.38198602</td><td>-0.085465342</td><td>-0.039104983</td><td>-0.19488738</td><td>-0.20219146</td><td>-0.13736756</td><td>-0.086724348</td><td>-0.18546301</td><td>0.124268</td><td>0.38514307</td><td>189</td><td>0</td><td>188</td><td>1</td><td>3.7645459</td><td>264.02887</td><td>1.1977568988461562</td><td>3.8497041960340868</td><td>31</td><td>False</td><td>0.19770242</td><td>1.507008005675998</td><td>0.062058113541064205</td><td>0.26428992</td><td>21</td><td>11</td><td>0.59958148</td><td>0</td><td>22</td><td>False</td><td>196</td><td>457.5538920941807</td><td>1.3895512018755785</td><td>329.28177</td><td>19.03726</td><td>19</td><td>208.51568840055839</td><td>11.554435941736745</td><td>18.046375</td><td>19.553541</td><td>20</td><td>378.34395723045185</td><td>10.626008546556282</td><td>35.605465</td><td>18.317204</td><td>1.2826022</td><td>0</td><td>1.2363377</td><td>0.51628113</td><td>0.72005653</td><td>--</td><td>--</td><td>0</td><td>--</td><td>--</td><td>--</td><td>NOT_AVAILABLE</td><td>40.894930846759152</td><td>-6.4205568508121793</td><td>294.74040969172398</td><td>25.652447696452082</td><td>--</td><td>--</td><td>--</td><td>--</td><td>--</td><td>--</td><td>--</td><td>--</td><td>--</td><td>--</td><td>--</td><td>--</td><td>--</td><td>--</td><td>--</td><td>--</td><td>--</td><td>http://geadata.esac.esa.int/data-server/datalink/links?ID=4289615599262726912</td><td>--</td></tr>\n",
       "<tr><td>1635721458409799680</td><td>Gaia DR2 4289587733506842112</td><td>4289587733506842112</td><td>1625938043</td><td>2015.5</td><td>292.85823736327308</td><td>0.41736261364605198</td><td>4.184627783979078</td><td>0.33103527287235102</td><td>-0.17069443904996162</td><td>0.50264261621970707</td><td>-0.33959404</td><td>-1.7666756224800209</td><td>0.87489237627376704</td><td>-5.222079580638523</td><td>0.63936613498151973</td><td>0.51365286</td><td>-0.30359852</td><td>-0.012478899</td><td>-0.14668347</td><td>-0.14829047</td><td>-0.20470072</td><td>0.16581608</td><td>-0.31796318</td><td>-0.1961422</td><td>0.46586165</td><td>239</td><td>0</td><td>235</td><td>4</td><td>2.6014106</td><td>289.64905</td><td>1.260166065481559</td><td>2.3839164140211233</td><td>31</td><td>False</td><td>0.11315764</td><td>1.4552172052260373</td><td>0.071300587957004821</td><td>0.1598915</td><td>27</td><td>11</td><td>0.84332293</td><td>0</td><td>30</td><td>False</td><td>258</td><td>317.0517113252011</td><td>1.1972759104022168</td><td>264.81091</td><td>19.435541</td><td>15</td><td>160.04024308959569</td><td>11.516517534871832</td><td>13.896584</td><td>19.840815</td><td>13</td><td>322.33665664902963</td><td>5.3446708033054122</td><td>60.309917</td><td>18.491146</td><td>1.5214455</td><td>0</td><td>1.3496685</td><td>0.40527344</td><td>0.94439507</td><td>--</td><td>--</td><td>0</td><td>--</td><td>--</td><td>--</td><td>NOT_AVAILABLE</td><td>41.267186608827835</td><td>-6.9406086705664967</td><td>295.44762619542172</td><td>25.627028103091828</td><td>--</td><td>--</td><td>--</td><td>--</td><td>--</td><td>--</td><td>--</td><td>--</td><td>--</td><td>--</td><td>--</td><td>--</td><td>--</td><td>--</td><td>--</td><td>--</td><td>--</td><td>http://geadata.esac.esa.int/data-server/datalink/links?ID=4289587733506842112</td><td>--</td></tr>\n",
       "<tr><td>1635721458409799680</td><td>Gaia DR2 4289603813868015744</td><td>4289603813868015744</td><td>1480226334</td><td>2015.5</td><td>292.93122430762111</td><td>6.3165532977314971</td><td>4.3840438676907674</td><td>4.0658691530536171</td><td>--</td><td>--</td><td>--</td><td>--</td><td>--</td><td>--</td><td>--</td><td>0.94966304</td><td>--</td><td>--</td><td>--</td><td>--</td><td>--</td><td>--</td><td>--</td><td>--</td><td>--</td><td>115</td><td>0</td><td>115</td><td>0</td><td>-1.3421897</td><td>90.681549</td><td>0.0</td><td>0.0</td><td>3</td><td>False</td><td>0.022594981</td><td>--</td><td>--</td><td>0.023026561</td><td>13</td><td>4</td><td>28.082546</td><td>0</td><td>17</td><td>False</td><td>150</td><td>93.745845662734368</td><td>1.0804829683167092</td><td>86.762909</td><td>20.758486</td><td>0</td><td>--</td><td>--</td><td>--</td><td>--</td><td>0</td><td>--</td><td>--</td><td>--</td><td>--</td><td>--</td><td>2</td><td>--</td><td>--</td><td>--</td><td>--</td><td>--</td><td>0</td><td>--</td><td>--</td><td>--</td><td>NOT_AVAILABLE</td><td>41.47896709773218</td><td>-6.9111921487946582</td><td>295.56523150684103</td><td>25.810978609468179</td><td>--</td><td>--</td><td>--</td><td>--</td><td>--</td><td>--</td><td>--</td><td>--</td><td>--</td><td>--</td><td>--</td><td>--</td><td>--</td><td>--</td><td>--</td><td>--</td><td>--</td><td>http://geadata.esac.esa.int/data-server/datalink/links?ID=4289603813868015744</td><td>--</td></tr>\n",
       "</table>"
      ],
      "text/plain": [
       "<Table masked=True length=5>\n",
       "    solution_id             designation          ... epoch_photometry_url\n",
       "                                                 ...                     \n",
       "       int64                   object            ...        object       \n",
       "------------------- ---------------------------- ... --------------------\n",
       "1635721458409799680 Gaia DR2 4289587561732446336 ...                   --\n",
       "1635721458409799680 Gaia DR2 4289589825149019264 ...                   --\n",
       "1635721458409799680 Gaia DR2 4289615599262726912 ...                   --\n",
       "1635721458409799680 Gaia DR2 4289587733506842112 ...                   --\n",
       "1635721458409799680 Gaia DR2 4289603813868015744 ...                   --"
      ]
     },
     "execution_count": 7,
     "metadata": {},
     "output_type": "execute_result"
    }
   ],
   "source": [
    "import pyvo as vo\n",
    "\n",
    "tap_server = vo.dal.TAPService(\"http://gea.esac.esa.int/tap-server/tap\")\n",
    "pyvo_results = tap_server.search(\"select TOP 5 * FROM gaiadr2.gaia_source\").table\n",
    "pyvo_results"
   ]
  },
  {
   "cell_type": "markdown",
   "metadata": {},
   "source": [
    "And it's reassuring that the output from the two packages seem identical: "
   ]
  },
  {
   "cell_type": "code",
   "execution_count": 8,
   "metadata": {
    "collapsed": false
   },
   "outputs": [
    {
     "data": {
      "text/plain": [
       "masked_array(data = [True True True True True],\n",
       "             mask = [False False False False False],\n",
       "       fill_value = True)"
      ]
     },
     "execution_count": 8,
     "metadata": {},
     "output_type": "execute_result"
    }
   ],
   "source": [
    "pyvo_results == astropy_results"
   ]
  }
 ],
 "metadata": {
  "kernelspec": {
   "display_name": "Python [default]",
   "language": "python",
   "name": "python2"
  },
  "language_info": {
   "codemirror_mode": {
    "name": "ipython",
    "version": 2
   },
   "file_extension": ".py",
   "mimetype": "text/x-python",
   "name": "python",
   "nbconvert_exporter": "python",
   "pygments_lexer": "ipython2",
   "version": "2.7.13"
  }
 },
 "nbformat": 4,
 "nbformat_minor": 2
}
