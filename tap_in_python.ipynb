{
 "cells": [
  {
   "cell_type": "markdown",
   "metadata": {
    "collapsed": true
   },
   "source": [
    "## ADQL and Tap Queries in Python\n",
    "\n",
    "There are numerous python packages supporting TAP and ADQL parsing. Here, I show how to use them in Astropy's `astroquery` and `PyVO`."
   ]
  },
  {
   "cell_type": "code",
   "execution_count": 1,
   "metadata": {
    "collapsed": false
   },
   "outputs": [],
   "source": [
    "from astropy.table import Table\n",
    "import matplotlib.pyplot as plt\n",
    "%matplotlib notebook"
   ]
  },
  {
   "cell_type": "markdown",
   "metadata": {},
   "source": [
    "For getting what you want from TAP you need at least three items:\n",
    "\n",
    "- The specific TAP service address containing the table(s) you seek (typically something like http://gea.esac.esa.int/tap-server/tap)\n",
    "- Table identification on that server (there are standard naming schemes, you can also print a list of available tables on a TAP server)\n",
    "- An `ADQL` query"
   ]
  },
  {
   "cell_type": "markdown",
   "metadata": {},
   "source": [
    "## 1. Astroquery"
   ]
  },
  {
   "cell_type": "code",
   "execution_count": 2,
   "metadata": {
    "collapsed": false
   },
   "outputs": [
    {
     "name": "stdout",
     "output_type": "stream",
     "text": [
      "Created TAP+ (v1.0.1) - Connection:\n",
      "\tHost: gea.esac.esa.int\n",
      "\tUse HTTPS: False\n",
      "\tPort: 80\n",
      "\tSSL Port: 443\n"
     ]
    }
   ],
   "source": [
    "from astroquery.utils.tap.core import TapPlus\n",
    "tap_server = TapPlus(url=\"http://gea.esac.esa.int/tap-server/tap\")"
   ]
  },
  {
   "cell_type": "markdown",
   "metadata": {},
   "source": [
    "### Browsing tables on the TAP server\n",
    "You can print a list of available tables on the server and see their metadata.\n",
    "\n",
    "**Warning**: Some TAP servers contain tens of thousands of tables (e.g., Vizier), thus this can take a bit on those servers. The one we are accessing here mostly contains just Gaia results."
   ]
  },
  {
   "cell_type": "code",
   "execution_count": 3,
   "metadata": {
    "collapsed": false
   },
   "outputs": [
    {
     "name": "stdout",
     "output_type": "stream",
     "text": [
      "Retrieving tables...\n",
      "Parsing tables...\n",
      "Done.\n",
      "public.public.dual\n",
      "public.public.hipparcos\n",
      "public.public.hipparcos_newreduction\n",
      "public.public.hubble_sc\n",
      "public.public.igsl_source\n",
      "public.public.igsl_source_catalog_ids\n",
      "public.public.tycho2\n",
      "tap_schema.tap_schema.columns\n",
      "tap_schema.tap_schema.key_columns\n",
      "tap_schema.tap_schema.keys\n",
      "tap_schema.tap_schema.schemas\n",
      "tap_schema.tap_schema.tables\n",
      "gaiadr1.gaiadr1.aux_qso_icrf2_match\n",
      "gaiadr1.gaiadr1.ext_phot_zero_point\n",
      "gaiadr1.gaiadr1.allwise_best_neighbour\n",
      "gaiadr1.gaiadr1.allwise_neighbourhood\n",
      "gaiadr1.gaiadr1.gsc23_best_neighbour\n",
      "gaiadr1.gaiadr1.gsc23_neighbourhood\n",
      "gaiadr1.gaiadr1.ppmxl_best_neighbour\n",
      "gaiadr1.gaiadr1.ppmxl_neighbourhood\n",
      "gaiadr1.gaiadr1.sdss_dr9_best_neighbour\n",
      "gaiadr1.gaiadr1.sdss_dr9_neighbourhood\n",
      "gaiadr1.gaiadr1.tmass_best_neighbour\n",
      "gaiadr1.gaiadr1.tmass_neighbourhood\n",
      "gaiadr1.gaiadr1.ucac4_best_neighbour\n",
      "gaiadr1.gaiadr1.ucac4_neighbourhood\n",
      "gaiadr1.gaiadr1.urat1_best_neighbour\n",
      "gaiadr1.gaiadr1.urat1_neighbourhood\n",
      "gaiadr1.gaiadr1.cepheid\n",
      "gaiadr1.gaiadr1.phot_variable_time_series_gfov\n",
      "gaiadr1.gaiadr1.phot_variable_time_series_gfov_statistical_parameters\n",
      "gaiadr1.gaiadr1.rrlyrae\n",
      "gaiadr1.gaiadr1.variable_summary\n",
      "gaiadr1.gaiadr1.allwise_original_valid\n",
      "gaiadr1.gaiadr1.gsc23_original_valid\n",
      "gaiadr1.gaiadr1.ppmxl_original_valid\n",
      "gaiadr1.gaiadr1.sdssdr9_original_valid\n",
      "gaiadr1.gaiadr1.tmass_original_valid\n",
      "gaiadr1.gaiadr1.ucac4_original_valid\n",
      "gaiadr1.gaiadr1.urat1_original_valid\n",
      "gaiadr1.gaiadr1.gaia_source\n",
      "gaiadr1.gaiadr1.tgas_source\n",
      "gaiadr2.gaiadr2.aux_allwise_agn_gdr2_cross_id\n",
      "gaiadr2.gaiadr2.aux_iers_gdr2_cross_id\n",
      "gaiadr2.gaiadr2.aux_sso_orbit_residuals\n",
      "gaiadr2.gaiadr2.aux_sso_orbits\n",
      "gaiadr2.gaiadr2.dr1_neighbourhood\n",
      "gaiadr2.gaiadr2.allwise_best_neighbour\n",
      "gaiadr2.gaiadr2.allwise_neighbourhood\n",
      "gaiadr2.gaiadr2.apassdr9_best_neighbour\n",
      "gaiadr2.gaiadr2.apassdr9_neighbourhood\n",
      "gaiadr2.gaiadr2.gsc23_best_neighbour\n",
      "gaiadr2.gaiadr2.gsc23_neighbourhood\n",
      "gaiadr2.gaiadr2.hipparcos2_best_neighbour\n",
      "gaiadr2.gaiadr2.hipparcos2_neighbourhood\n",
      "gaiadr2.gaiadr2.panstarrs1_best_neighbour\n",
      "gaiadr2.gaiadr2.panstarrs1_neighbourhood\n",
      "gaiadr2.gaiadr2.ppmxl_best_neighbour\n",
      "gaiadr2.gaiadr2.ppmxl_neighbourhood\n",
      "gaiadr2.gaiadr2.ravedr5_best_neighbour\n",
      "gaiadr2.gaiadr2.ravedr5_neighbourhood\n",
      "gaiadr2.gaiadr2.sdssdr9_best_neighbour\n",
      "gaiadr2.gaiadr2.sdssdr9_neighbourhood\n",
      "gaiadr2.gaiadr2.tmass_best_neighbour\n",
      "gaiadr2.gaiadr2.tmass_neighbourhood\n",
      "gaiadr2.gaiadr2.tycho2_best_neighbour\n",
      "gaiadr2.gaiadr2.tycho2_neighbourhood\n",
      "gaiadr2.gaiadr2.urat1_best_neighbour\n",
      "gaiadr2.gaiadr2.urat1_neighbourhood\n",
      "gaiadr2.gaiadr2.sso_observation\n",
      "gaiadr2.gaiadr2.sso_source\n",
      "gaiadr2.gaiadr2.vari_cepheid\n",
      "gaiadr2.gaiadr2.vari_classifier_class_definition\n",
      "gaiadr2.gaiadr2.vari_classifier_definition\n",
      "gaiadr2.gaiadr2.vari_classifier_result\n",
      "gaiadr2.gaiadr2.vari_long_period_variable\n",
      "gaiadr2.gaiadr2.vari_rotation_modulation\n",
      "gaiadr2.gaiadr2.vari_rrlyrae\n",
      "gaiadr2.gaiadr2.vari_short_timescale\n",
      "gaiadr2.gaiadr2.vari_time_series_statistics\n",
      "gaiadr2.gaiadr2.panstarrs1_original_valid\n",
      "gaiadr2.gaiadr2.gaia_source\n"
     ]
    }
   ],
   "source": [
    "tables = tap_server.load_tables(only_names=True)\n",
    "for table in tables:\n",
    "    print(table.get_qualified_name())"
   ]
  },
  {
   "cell_type": "code",
   "execution_count": 4,
   "metadata": {
    "collapsed": false,
    "scrolled": false
   },
   "outputs": [
    {
     "name": "stdout",
     "output_type": "stream",
     "text": [
      "Retrieving table 'gaiadr2.gaia_source'\n",
      "Parsing table 'gaiadr2.gaia_source'...\n",
      "Done.\n",
      "\n",
      "# Table description:\n",
      "This table has an entry for every Gaia observed source as listed in the\n",
      "Main Database accumulating catalogue version from which the catalogue\n",
      "release has been generated. It contains the basic source parameters,\n",
      "that is only final data (no epoch data) and no spectra (neither final\n",
      "nor epoch).\n",
      "\n",
      "# Table columns:\n",
      "solution_id\n",
      "designation\n",
      "source_id\n",
      "random_index\n",
      "ref_epoch\n",
      "ra\n",
      "ra_error\n",
      "dec\n",
      "dec_error\n",
      "parallax\n",
      "parallax_error\n",
      "parallax_over_error\n",
      "pmra\n",
      "pmra_error\n",
      "pmdec\n",
      "pmdec_error\n",
      "ra_dec_corr\n",
      "ra_parallax_corr\n",
      "ra_pmra_corr\n",
      "ra_pmdec_corr\n",
      "dec_parallax_corr\n",
      "dec_pmra_corr\n",
      "dec_pmdec_corr\n",
      "parallax_pmra_corr\n",
      "parallax_pmdec_corr\n",
      "pmra_pmdec_corr\n",
      "astrometric_n_obs_al\n",
      "astrometric_n_obs_ac\n",
      "astrometric_n_good_obs_al\n",
      "astrometric_n_bad_obs_al\n",
      "astrometric_gof_al\n",
      "astrometric_chi2_al\n",
      "astrometric_excess_noise\n",
      "astrometric_excess_noise_sig\n",
      "astrometric_params_solved\n",
      "astrometric_primary_flag\n",
      "astrometric_weight_al\n",
      "astrometric_pseudo_colour\n",
      "astrometric_pseudo_colour_error\n",
      "mean_varpi_factor_al\n",
      "astrometric_matched_observations\n",
      "visibility_periods_used\n",
      "astrometric_sigma5d_max\n",
      "frame_rotator_object_type\n",
      "matched_observations\n",
      "duplicated_source\n",
      "phot_g_n_obs\n",
      "phot_g_mean_flux\n",
      "phot_g_mean_flux_error\n",
      "phot_g_mean_flux_over_error\n",
      "phot_g_mean_mag\n",
      "phot_bp_n_obs\n",
      "phot_bp_mean_flux\n",
      "phot_bp_mean_flux_error\n",
      "phot_bp_mean_flux_over_error\n",
      "phot_bp_mean_mag\n",
      "phot_rp_n_obs\n",
      "phot_rp_mean_flux\n",
      "phot_rp_mean_flux_error\n",
      "phot_rp_mean_flux_over_error\n",
      "phot_rp_mean_mag\n",
      "phot_bp_rp_excess_factor\n",
      "phot_proc_mode\n",
      "bp_rp\n",
      "bp_g\n",
      "g_rp\n",
      "radial_velocity\n",
      "radial_velocity_error\n",
      "rv_nb_transits\n",
      "rv_template_teff\n",
      "rv_template_logg\n",
      "rv_template_fe_h\n",
      "phot_variable_flag\n",
      "l\n",
      "b\n",
      "ecl_lon\n",
      "ecl_lat\n",
      "priam_flags\n",
      "teff_val\n",
      "teff_percentile_lower\n",
      "teff_percentile_upper\n",
      "a_g_val\n",
      "a_g_percentile_lower\n",
      "a_g_percentile_upper\n",
      "e_bp_min_rp_val\n",
      "e_bp_min_rp_percentile_lower\n",
      "e_bp_min_rp_percentile_upper\n",
      "flame_flags\n",
      "radius_val\n",
      "radius_percentile_lower\n",
      "radius_percentile_upper\n",
      "lum_val\n",
      "lum_percentile_lower\n",
      "lum_percentile_upper\n",
      "datalink_url\n",
      "epoch_photometry_url\n"
     ]
    }
   ],
   "source": [
    "catalog = tap_server.load_table('gaiadr2.gaia_source')\n",
    "\n",
    "print('\\n# Table description:')\n",
    "print(catalog.get_description())\n",
    "\n",
    "print('\\n# Table columns:')\n",
    "for column in catalog.get_columns():\n",
    "    print(column.get_name())"
   ]
  },
  {
   "cell_type": "markdown",
   "metadata": {},
   "source": [
    "### Writing the ADQL query and submiting the job:\n",
    "\n",
    "The ADQL query needs to be a string, which astroquery will send directly to the TAP server.\n",
    "\n",
    "**WARNING:** Do not submit large queries as synchronous jobs."
   ]
  },
  {
   "cell_type": "code",
   "execution_count": 5,
   "metadata": {
    "collapsed": false
   },
   "outputs": [
    {
     "name": "stdout",
     "output_type": "stream",
     "text": [
      "Launched query: 'select TOP 5 * FROM gaiadr2.gaia_source'\n",
      "Retrieving async. results...\n"
     ]
    },
    {
     "name": "stderr",
     "output_type": "stream",
     "text": [
      "WARNING: W27: None:3:0: W27: COOSYS deprecated in VOTable 1.2 [astropy.io.votable.exceptions]\n",
      "WARNING: W35: None:5:0: W35: 'value' attribute required for INFO elements [astropy.io.votable.exceptions]\n",
      "WARNING: W35: None:6:0: W35: 'value' attribute required for INFO elements [astropy.io.votable.exceptions]\n",
      "WARNING: W35: None:7:0: W35: 'value' attribute required for INFO elements [astropy.io.votable.exceptions]\n",
      "WARNING: W35: None:8:0: W35: 'value' attribute required for INFO elements [astropy.io.votable.exceptions]\n",
      "WARNING: W35: None:10:0: W35: 'value' attribute required for INFO elements [astropy.io.votable.exceptions]\n",
      "WARNING: W06: None:45:0: W06: Invalid UCD 'arith.ratio': Secondary word 'arith.ratio' is not valid as a primary word [astropy.io.votable.exceptions]\n",
      "WARNING: W50: None:48:0: W50: Invalid unit string 'mas.yr**-1' [astropy.io.votable.exceptions]\n",
      "WARNING: W50: None:51:0: W50: Invalid unit string 'mas.yr**-1' [astropy.io.votable.exceptions]\n",
      "WARNING: W50: None:54:0: W50: Invalid unit string 'mas.yr**-1' [astropy.io.votable.exceptions]\n",
      "WARNING: W50: None:57:0: W50: Invalid unit string 'mas.yr**-1' [astropy.io.votable.exceptions]\n",
      "WARNING: W50: None:120:0: W50: Invalid unit string 'mas**-2' [astropy.io.votable.exceptions]\n",
      "WARNING: W50: None:123:0: W50: Invalid unit string 'um**-1' [astropy.io.votable.exceptions]\n",
      "WARNING: W06: None:126:0: W06: Invalid UCD 'em.wavenumber;stat.error': Primary word 'stat.error' is not valid as a secondary word [astropy.io.votable.exceptions]\n",
      "WARNING: W50: None:126:0: W50: Invalid unit string 'um**-1' [astropy.io.votable.exceptions]\n",
      "WARNING: W06: None:138:0: W06: Invalid UCD 'pos.errorEllipse;stat.max': Secondary word 'pos.errorEllipse' is not valid as a primary word [astropy.io.votable.exceptions]\n",
      "WARNING: W50: None:153:0: W50: Invalid unit string ''electron'.s**-1' [astropy.io.votable.exceptions]\n",
      "WARNING: W50: None:156:0: W50: Invalid unit string ''electron'.s**-1' [astropy.io.votable.exceptions]\n",
      "WARNING: W06: None:159:0: W06: Invalid UCD 'arith.ratio': Secondary word 'arith.ratio' is not valid as a primary word [astropy.io.votable.exceptions]\n",
      "WARNING: W50: None:168:0: W50: Invalid unit string ''electron'.s**-1' (suppressing further warnings of this type...) [astropy.io.votable.exceptions]\n",
      "WARNING: W06: None:174:0: W06: Invalid UCD 'arith.ratio': Secondary word 'arith.ratio' is not valid as a primary word [astropy.io.votable.exceptions]\n",
      "WARNING: W06: None:189:0: W06: Invalid UCD 'arith.ratio': Secondary word 'arith.ratio' is not valid as a primary word [astropy.io.votable.exceptions]\n",
      "WARNING: W06: None:201:0: W06: Invalid UCD 'phot.color': Unknown word 'phot.color' [astropy.io.votable.exceptions]\n",
      "WARNING: W06: None:204:0: W06: Invalid UCD 'phot.color': Unknown word 'phot.color' [astropy.io.votable.exceptions]\n",
      "WARNING: W06: None:207:0: W06: Invalid UCD 'phot.color': Unknown word 'phot.color' [astropy.io.votable.exceptions]\n",
      "WARNING: W06: None:279:0: W06: Invalid UCD 'phys.size.radius;stat.error': Primary word 'stat.error' is not valid as a secondary word (suppressing further warnings of this type...) [astropy.io.votable.exceptions]\n"
     ]
    },
    {
     "name": "stdout",
     "output_type": "stream",
     "text": [
      "Query finished.\n"
     ]
    }
   ],
   "source": [
    "query = \"select TOP 5 * FROM gaiadr2.gaia_source\"\n",
    "search = tap_server.launch_job_async(query)"
   ]
  },
  {
   "cell_type": "markdown",
   "metadata": {},
   "source": [
    "### Getting results in form of a astropy table:"
   ]
  },
  {
   "cell_type": "code",
   "execution_count": 6,
   "metadata": {
    "collapsed": false
   },
   "outputs": [
    {
     "data": {
      "text/html": [
       "&lt;Table masked=True length=5&gt;\n",
       "<table id=\"table4742511440\" class=\"table-striped table-bordered table-condensed\">\n",
       "<thead><tr><th>solution_id</th><th>designation</th><th>source_id</th><th>random_index</th><th>ref_epoch</th><th>ra</th><th>ra_error</th><th>dec</th><th>dec_error</th><th>parallax</th><th>parallax_error</th><th>parallax_over_error</th><th>pmra</th><th>pmra_error</th><th>pmdec</th><th>pmdec_error</th><th>ra_dec_corr</th><th>ra_parallax_corr</th><th>ra_pmra_corr</th><th>ra_pmdec_corr</th><th>dec_parallax_corr</th><th>dec_pmra_corr</th><th>dec_pmdec_corr</th><th>parallax_pmra_corr</th><th>parallax_pmdec_corr</th><th>pmra_pmdec_corr</th><th>astrometric_n_obs_al</th><th>astrometric_n_obs_ac</th><th>astrometric_n_good_obs_al</th><th>astrometric_n_bad_obs_al</th><th>astrometric_gof_al</th><th>astrometric_chi2_al</th><th>astrometric_excess_noise</th><th>astrometric_excess_noise_sig</th><th>astrometric_params_solved</th><th>astrometric_primary_flag</th><th>astrometric_weight_al</th><th>astrometric_pseudo_colour</th><th>astrometric_pseudo_colour_error</th><th>mean_varpi_factor_al</th><th>astrometric_matched_observations</th><th>visibility_periods_used</th><th>astrometric_sigma5d_max</th><th>frame_rotator_object_type</th><th>matched_observations</th><th>duplicated_source</th><th>phot_g_n_obs</th><th>phot_g_mean_flux</th><th>phot_g_mean_flux_error</th><th>phot_g_mean_flux_over_error</th><th>phot_g_mean_mag</th><th>phot_bp_n_obs</th><th>phot_bp_mean_flux</th><th>phot_bp_mean_flux_error</th><th>phot_bp_mean_flux_over_error</th><th>phot_bp_mean_mag</th><th>phot_rp_n_obs</th><th>phot_rp_mean_flux</th><th>phot_rp_mean_flux_error</th><th>phot_rp_mean_flux_over_error</th><th>phot_rp_mean_mag</th><th>phot_bp_rp_excess_factor</th><th>phot_proc_mode</th><th>bp_rp</th><th>bp_g</th><th>g_rp</th><th>radial_velocity</th><th>radial_velocity_error</th><th>rv_nb_transits</th><th>rv_template_teff</th><th>rv_template_logg</th><th>rv_template_fe_h</th><th>phot_variable_flag</th><th>l</th><th>b</th><th>ecl_lon</th><th>ecl_lat</th><th>priam_flags</th><th>teff_val</th><th>teff_percentile_lower</th><th>teff_percentile_upper</th><th>a_g_val</th><th>a_g_percentile_lower</th><th>a_g_percentile_upper</th><th>e_bp_min_rp_val</th><th>e_bp_min_rp_percentile_lower</th><th>e_bp_min_rp_percentile_upper</th><th>flame_flags</th><th>radius_val</th><th>radius_percentile_lower</th><th>radius_percentile_upper</th><th>lum_val</th><th>lum_percentile_lower</th><th>lum_percentile_upper</th><th>datalink_url</th><th>epoch_photometry_url</th></tr></thead>\n",
       "<thead><tr><th></th><th></th><th></th><th></th><th>yr</th><th>deg</th><th>mas</th><th>deg</th><th>mas</th><th>mas</th><th>mas</th><th></th><th>mas.yr**-1</th><th>mas.yr**-1</th><th>mas.yr**-1</th><th>mas.yr**-1</th><th></th><th></th><th></th><th></th><th></th><th></th><th></th><th></th><th></th><th></th><th></th><th></th><th></th><th></th><th></th><th></th><th>mas</th><th></th><th></th><th></th><th>mas**-2</th><th>um**-1</th><th>um**-1</th><th></th><th></th><th></th><th>mas</th><th></th><th></th><th></th><th></th><th>&apos;electron&apos;.s**-1</th><th>&apos;electron&apos;.s**-1</th><th></th><th>mag</th><th></th><th>&apos;electron&apos;.s**-1</th><th>&apos;electron&apos;.s**-1</th><th></th><th>mag</th><th></th><th>&apos;electron&apos;.s**-1</th><th>&apos;electron&apos;.s**-1</th><th></th><th>mag</th><th></th><th></th><th>mag</th><th>mag</th><th>mag</th><th>km.s**-1</th><th>km.s**-1</th><th></th><th>K</th><th>log(cm.s**-2)</th><th>&apos;dex&apos;</th><th></th><th>deg</th><th>deg</th><th>deg</th><th>deg</th><th></th><th>K</th><th>K</th><th>K</th><th>mag</th><th>mag</th><th>mag</th><th>mag</th><th>mag</th><th>mag</th><th></th><th>Rsun</th><th>Rsun</th><th>Rsun</th><th>Lsun</th><th>Lsun</th><th>Lsun</th><th></th><th></th></tr></thead>\n",
       "<thead><tr><th>int64</th><th>object</th><th>int64</th><th>int64</th><th>float64</th><th>float64</th><th>float64</th><th>float64</th><th>float64</th><th>float64</th><th>float64</th><th>float32</th><th>float64</th><th>float64</th><th>float64</th><th>float64</th><th>float32</th><th>float32</th><th>float32</th><th>float32</th><th>float32</th><th>float32</th><th>float32</th><th>float32</th><th>float32</th><th>float32</th><th>int32</th><th>int32</th><th>int32</th><th>int32</th><th>float32</th><th>float32</th><th>float64</th><th>float64</th><th>int16</th><th>bool</th><th>float32</th><th>float64</th><th>float64</th><th>float32</th><th>int16</th><th>int16</th><th>float32</th><th>int32</th><th>int16</th><th>bool</th><th>int32</th><th>float64</th><th>float64</th><th>float32</th><th>float32</th><th>int32</th><th>float64</th><th>float64</th><th>float32</th><th>float32</th><th>int32</th><th>float64</th><th>float64</th><th>float32</th><th>float32</th><th>float32</th><th>int16</th><th>float32</th><th>float32</th><th>float32</th><th>float64</th><th>float64</th><th>int32</th><th>float32</th><th>float32</th><th>float32</th><th>object</th><th>float64</th><th>float64</th><th>float64</th><th>float64</th><th>int64</th><th>float32</th><th>float32</th><th>float32</th><th>float32</th><th>float32</th><th>float32</th><th>float32</th><th>float32</th><th>float32</th><th>int64</th><th>float32</th><th>float32</th><th>float32</th><th>float32</th><th>float32</th><th>float32</th><th>object</th><th>object</th></tr></thead>\n",
       "<tr><td>1635721458409799680</td><td>Gaia DR2 4306163936438433664</td><td>4306163936438433664</td><td>13760319</td><td>2015.5</td><td>288.74925202254786</td><td>0.47238448976751257</td><td>6.8017435683693996</td><td>0.54587387484561578</td><td>0.78863229658811584</td><td>0.57441100263869815</td><td>1.3729408</td><td>-3.4503877542896531</td><td>1.1228823770543999</td><td>-1.0156524316124615</td><td>1.2013083999011234</td><td>0.51728535</td><td>-0.019169006</td><td>-0.32809708</td><td>-0.27777284</td><td>0.2255965</td><td>-0.30775097</td><td>-0.32263061</td><td>-0.18371134</td><td>0.10212243</td><td>0.55491704</td><td>159</td><td>0</td><td>159</td><td>0</td><td>1.813958</td><td>187.31816</td><td>1.1004320336802351</td><td>0.7909766697413293</td><td>31</td><td>False</td><td>0.075327657</td><td>1.2799213206456383</td><td>0.10487952533585157</td><td>0.26207617</td><td>18</td><td>10</td><td>1.3030598</td><td>0</td><td>18</td><td>False</td><td>159</td><td>202.11312476035673</td><td>1.191025553553807</td><td>169.69672</td><td>19.924379</td><td>12</td><td>85.768320691793448</td><td>11.194626019501927</td><td>7.661562</td><td>20.51807</td><td>14</td><td>319.76854086257202</td><td>8.9740128460634292</td><td>35.632725</td><td>18.49983</td><td>2.0064845</td><td>0</td><td>2.01824</td><td>0.59369087</td><td>1.4245491</td><td>--</td><td>--</td><td>0</td><td>--</td><td>--</td><td>--</td><td>NOT_AVAILABLE</td><td>41.672953951408743</td><td>-2.1020389453537085</td><td>291.37238664721792</td><td>28.860510002728784</td><td>--</td><td>--</td><td>--</td><td>--</td><td>--</td><td>--</td><td>--</td><td>--</td><td>--</td><td>--</td><td>--</td><td>--</td><td>--</td><td>--</td><td>--</td><td>--</td><td>--</td><td>http://geadata.esac.esa.int/data-server/datalink/links?ID=4306163936438433664</td><td>--</td></tr>\n",
       "<tr><td>1635721458409799680</td><td>Gaia DR2 4306138853859618816</td><td>4306138853859618816</td><td>1057018359</td><td>2015.5</td><td>288.3704998625181</td><td>0.81750805524536796</td><td>7.0273107944559898</td><td>0.87054579895280193</td><td>1.469610243926349</td><td>0.95782561065626814</td><td>1.5343192</td><td>-3.7850680248931337</td><td>1.7810884104885734</td><td>-6.4699522813096655</td><td>1.8489108944445241</td><td>0.4745121</td><td>-0.35815594</td><td>-0.11850338</td><td>0.11672537</td><td>-0.29728109</td><td>0.19139282</td><td>-0.20278813</td><td>-0.13709806</td><td>0.046568003</td><td>0.3320744</td><td>139</td><td>0</td><td>139</td><td>0</td><td>1.3010281</td><td>155.70911</td><td>0.0</td><td>0.0</td><td>31</td><td>False</td><td>0.035796873</td><td>1.5003827826754534</td><td>0.16933862909364505</td><td>0.23058197</td><td>16</td><td>7</td><td>1.8368543</td><td>0</td><td>16</td><td>False</td><td>139</td><td>111.87848513989654</td><td>1.1152197511871156</td><td>100.31968</td><td>20.5665</td><td>10</td><td>34.17470430995332</td><td>8.7896196902447699</td><td>3.8880754</td><td>21.517126</td><td>15</td><td>178.09382964585961</td><td>9.7033469336437168</td><td>18.353855</td><td>19.135298</td><td>1.8973132</td><td>1</td><td>2.3818283</td><td>0.95062637</td><td>1.4312019</td><td>--</td><td>--</td><td>0</td><td>--</td><td>--</td><td>--</td><td>NOT_AVAILABLE</td><td>41.698538431533876</td><td>-1.6643168946703495</td><td>290.98435244652626</td><td>29.138130400349535</td><td>--</td><td>--</td><td>--</td><td>--</td><td>--</td><td>--</td><td>--</td><td>--</td><td>--</td><td>--</td><td>--</td><td>--</td><td>--</td><td>--</td><td>--</td><td>--</td><td>--</td><td>http://geadata.esac.esa.int/data-server/datalink/links?ID=4306138853859618816</td><td>--</td></tr>\n",
       "<tr><td>1635721458409799680</td><td>Gaia DR2 4306155277785483904</td><td>4306155277785483904</td><td>528509179</td><td>2015.5</td><td>289.12615403566303</td><td>0.32710861086322024</td><td>6.825849458633618</td><td>0.34328296398340929</td><td>-0.93604111838485526</td><td>0.42651436411391452</td><td>-2.1946297</td><td>-4.7642095306649974</td><td>0.81410914214565655</td><td>-1.6790362726667691</td><td>0.70944321269862654</td><td>0.33272412</td><td>-0.090890594</td><td>-0.22870532</td><td>-0.19540338</td><td>-0.2163184</td><td>-0.27603412</td><td>-0.053591669</td><td>0.10383862</td><td>-0.066848353</td><td>0.10932067</td><td>159</td><td>0</td><td>156</td><td>3</td><td>0.66572475</td><td>162.16689</td><td>0.69669653303595824</td><td>0.66121397520860403</td><td>31</td><td>False</td><td>0.13772693</td><td>1.4212584556681482</td><td>0.067788726716238132</td><td>0.13445014</td><td>18</td><td>10</td><td>0.74128264</td><td>0</td><td>18</td><td>False</td><td>155</td><td>303.99148240068547</td><td>1.2749045272515254</td><td>238.44255</td><td>19.481213</td><td>11</td><td>100.63005561186283</td><td>13.319941886183702</td><td>7.554842</td><td>20.344568</td><td>9</td><td>384.12542855179095</td><td>19.526474774081869</td><td>19.672031</td><td>18.300737</td><td>1.5946351</td><td>0</td><td>2.0438309</td><td>0.86335564</td><td>1.1804752</td><td>--</td><td>--</td><td>0</td><td>--</td><td>--</td><td>--</td><td>NOT_AVAILABLE</td><td>41.868218364687735</td><td>-2.4223012331389744</td><td>291.79902628181281</td><td>28.829197182083181</td><td>--</td><td>--</td><td>--</td><td>--</td><td>--</td><td>--</td><td>--</td><td>--</td><td>--</td><td>--</td><td>--</td><td>--</td><td>--</td><td>--</td><td>--</td><td>--</td><td>--</td><td>http://geadata.esac.esa.int/data-server/datalink/links?ID=4306155277785483904</td><td>--</td></tr>\n",
       "<tr><td>1635721458409799680</td><td>Gaia DR2 4306149952029329536</td><td>4306149952029329536</td><td>264254589</td><td>2015.5</td><td>288.92905257817682</td><td>0.43363429040038687</td><td>6.7091764226829325</td><td>0.4789719089004621</td><td>0.6888431014968992</td><td>0.55981409457726916</td><td>1.2304854</td><td>-1.004536565742512</td><td>1.0065270052379043</td><td>-5.0307859129419796</td><td>1.0749259244949301</td><td>0.32803786</td><td>-0.12282616</td><td>-0.27238965</td><td>-0.13378002</td><td>0.097677968</td><td>-0.13881835</td><td>-0.25959674</td><td>-0.064081855</td><td>0.024642218</td><td>0.24928074</td><td>111</td><td>0</td><td>111</td><td>0</td><td>-0.22346134</td><td>102.12782</td><td>0.0</td><td>0.0</td><td>31</td><td>False</td><td>0.10690627</td><td>1.5023627464746074</td><td>0.10076800965525648</td><td>0.17489856</td><td>13</td><td>9</td><td>1.0402714</td><td>0</td><td>13</td><td>False</td><td>111</td><td>221.26445525331241</td><td>1.627377524815401</td><td>135.96382</td><td>19.826086</td><td>9</td><td>92.013317970876869</td><td>29.077742927132217</td><td>3.1643898</td><td>20.441761</td><td>12</td><td>290.00860849120852</td><td>9.0628864400518179</td><td>31.999586</td><td>18.605892</td><td>1.72654</td><td>0</td><td>1.8358688</td><td>0.61567497</td><td>1.2201939</td><td>--</td><td>--</td><td>0</td><td>--</td><td>--</td><td>--</td><td>NOT_AVAILABLE</td><td>41.67381878758065</td><td>-2.3031578814499318</td><td>291.5584605187409</td><td>28.742770481112032</td><td>--</td><td>--</td><td>--</td><td>--</td><td>--</td><td>--</td><td>--</td><td>--</td><td>--</td><td>--</td><td>--</td><td>--</td><td>--</td><td>--</td><td>--</td><td>--</td><td>--</td><td>http://geadata.esac.esa.int/data-server/datalink/links?ID=4306149952029329536</td><td>--</td></tr>\n",
       "<tr><td>1635721458409799680</td><td>Gaia DR2 4306145038588176512</td><td>4306145038588176512</td><td>1139805471</td><td>2015.5</td><td>288.98265566165571</td><td>1.8408234389472713</td><td>6.6014616404869075</td><td>1.3337196656020833</td><td>3.4083733313913167</td><td>2.8147362415141091</td><td>1.2109033</td><td>-7.4553981482698051</td><td>3.3431888839622923</td><td>-6.8349071285401042</td><td>3.0634370091998151</td><td>0.43801078</td><td>-0.78094494</td><td>0.41828832</td><td>0.25069118</td><td>-0.16008601</td><td>0.40409574</td><td>0.22639906</td><td>-0.34960762</td><td>-0.050041512</td><td>0.44031394</td><td>89</td><td>0</td><td>89</td><td>0</td><td>1.5239788</td><td>104.56844</td><td>3.0571384510899633</td><td>1.5377113201265191</td><td>31</td><td>False</td><td>0.022042079</td><td>1.3497921720908244</td><td>0.22679142706229016</td><td>0.21399678</td><td>10</td><td>6</td><td>3.6409986</td><td>0</td><td>10</td><td>False</td><td>88</td><td>104.28409399201966</td><td>1.2712879103300929</td><td>82.030273</td><td>20.64282</td><td>3</td><td>85.573281912935414</td><td>26.990332185118085</td><td>3.170516</td><td>20.520542</td><td>3</td><td>107.99844899844486</td><td>16.147148727216798</td><td>6.6883912</td><td>19.678375</td><td>1.8561962</td><td>0</td><td>0.8421669</td><td>-0.12227821</td><td>0.96444511</td><td>--</td><td>--</td><td>0</td><td>--</td><td>--</td><td>--</td><td>NOT_AVAILABLE</td><td>41.603073971261665</td><td>-2.4003215034154999</td><td>291.60040410340383</td><td>28.628388464116075</td><td>--</td><td>--</td><td>--</td><td>--</td><td>--</td><td>--</td><td>--</td><td>--</td><td>--</td><td>--</td><td>--</td><td>--</td><td>--</td><td>--</td><td>--</td><td>--</td><td>--</td><td>http://geadata.esac.esa.int/data-server/datalink/links?ID=4306145038588176512</td><td>--</td></tr>\n",
       "</table>"
      ],
      "text/plain": [
       "<Table masked=True length=5>\n",
       "    solution_id             designation          ... epoch_photometry_url\n",
       "                                                 ...                     \n",
       "       int64                   object            ...        object       \n",
       "------------------- ---------------------------- ... --------------------\n",
       "1635721458409799680 Gaia DR2 4306163936438433664 ...                   --\n",
       "1635721458409799680 Gaia DR2 4306138853859618816 ...                   --\n",
       "1635721458409799680 Gaia DR2 4306155277785483904 ...                   --\n",
       "1635721458409799680 Gaia DR2 4306149952029329536 ...                   --\n",
       "1635721458409799680 Gaia DR2 4306145038588176512 ...                   --"
      ]
     },
     "execution_count": 6,
     "metadata": {},
     "output_type": "execute_result"
    }
   ],
   "source": [
    "results = search.get_results()\n",
    "results"
   ]
  },
  {
   "cell_type": "markdown",
   "metadata": {},
   "source": [
    "## 2. PyVO:"
   ]
  },
  {
   "cell_type": "code",
   "execution_count": 7,
   "metadata": {
    "collapsed": true
   },
   "outputs": [],
   "source": [
    "import pyvo as vo\n",
    "\n",
    "tap_server = vo.dal.TAPService(\"http://gea.esac.esa.int/tap-server/tap\")"
   ]
  },
  {
   "cell_type": "code",
   "execution_count": 8,
   "metadata": {
    "collapsed": false
   },
   "outputs": [
    {
     "data": {
      "text/plain": [
       "<Table masked=True length=5>\n",
       "    solution_id             designation          ... epoch_photometry_url\n",
       "                                                 ...                     \n",
       "       int64                   object            ...        object       \n",
       "------------------- ---------------------------- ... --------------------\n",
       "1635721458409799680 Gaia DR2 4306163936438433664 ...                   --\n",
       "1635721458409799680 Gaia DR2 4306138853859618816 ...                   --\n",
       "1635721458409799680 Gaia DR2 4306155277785483904 ...                   --\n",
       "1635721458409799680 Gaia DR2 4306149952029329536 ...                   --\n",
       "1635721458409799680 Gaia DR2 4306145038588176512 ...                   --"
      ]
     },
     "execution_count": 8,
     "metadata": {},
     "output_type": "execute_result"
    }
   ],
   "source": [
    "results = tap_server.search(\"select TOP 5 * FROM gaiadr2.gaia_source\")\n",
    "results"
   ]
  }
 ],
 "metadata": {
  "kernelspec": {
   "display_name": "Python [default]",
   "language": "python",
   "name": "python2"
  },
  "language_info": {
   "codemirror_mode": {
    "name": "ipython",
    "version": 2
   },
   "file_extension": ".py",
   "mimetype": "text/x-python",
   "name": "python",
   "nbconvert_exporter": "python",
   "pygments_lexer": "ipython2",
   "version": "2.7.13"
  }
 },
 "nbformat": 4,
 "nbformat_minor": 2
}
